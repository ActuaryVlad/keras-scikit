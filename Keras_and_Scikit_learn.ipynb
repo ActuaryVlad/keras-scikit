{
  "nbformat": 4,
  "nbformat_minor": 0,
  "metadata": {
    "colab": {
      "provenance": []
    },
    "kernelspec": {
      "name": "python3",
      "display_name": "Python 3"
    },
    "language_info": {
      "name": "python"
    },
    "accelerator": "TPU"
  },
  "cells": [
    {
      "cell_type": "code",
      "source": [
        "import pandas as pd\n",
        "from sklearn.model_selection import train_test_split\n",
        "from sklearn.metrics import mean_squared_error\n",
        "from keras.models import Sequential\n",
        "from keras.layers import Dense\n",
        "import numpy as np\n",
        "\n",
        "\n",
        "# Cargar el conjunto de datos\n",
        "data = pd.read_csv('https://cocl.us/concrete_data')\n",
        "\n",
        "# Dividir el conjunto de datos en características y etiquetas\n",
        "X = data.drop('Strength', axis=1)  # Asumiendo que 'Strength' es la columna objetivo\n",
        "y = data['Strength']"
      ],
      "metadata": {
        "id": "o-72GvQ1g2CB"
      },
      "execution_count": 1,
      "outputs": []
    },
    {
      "cell_type": "code",
      "source": [
        "import os\n",
        "import tensorflow as tf\n",
        "resolver = tf.distribute.cluster_resolver.TPUClusterResolver(tpu='')\n",
        "tf.config.experimental_connect_to_cluster(resolver)\n",
        "tf.tpu.experimental.initialize_tpu_system(resolver)\n",
        "print(\"All devices: \", tf.config.list_logical_devices('TPU'))\n"
      ],
      "metadata": {
        "colab": {
          "base_uri": "https://localhost:8080/"
        },
        "id": "fxp_c3p1pkuW",
        "outputId": "c695abaa-86ff-49bc-c234-cd140e086c5a"
      },
      "execution_count": 3,
      "outputs": [
        {
          "output_type": "stream",
          "name": "stdout",
          "text": [
            "All devices:  [LogicalDevice(name='/job:worker/replica:0/task:0/device:TPU:0', device_type='TPU'), LogicalDevice(name='/job:worker/replica:0/task:0/device:TPU:1', device_type='TPU'), LogicalDevice(name='/job:worker/replica:0/task:0/device:TPU:2', device_type='TPU'), LogicalDevice(name='/job:worker/replica:0/task:0/device:TPU:3', device_type='TPU'), LogicalDevice(name='/job:worker/replica:0/task:0/device:TPU:4', device_type='TPU'), LogicalDevice(name='/job:worker/replica:0/task:0/device:TPU:5', device_type='TPU'), LogicalDevice(name='/job:worker/replica:0/task:0/device:TPU:6', device_type='TPU'), LogicalDevice(name='/job:worker/replica:0/task:0/device:TPU:7', device_type='TPU')]\n"
          ]
        }
      ]
    },
    {
      "cell_type": "markdown",
      "source": [
        "A. Build a Baseline Model\n",
        "Objective:\n",
        "Create a baseline neural network model to predict the strength of concrete based on various features.\n",
        "\n",
        "Model Architecture:\n",
        "\n",
        "Input layer based on the number of features.\n",
        "One hidden layer with 10 nodes and a ReLU activation function.\n",
        "Output layer to predict concrete strength.\n",
        "Adam optimizer and mean squared error (MSE) as the loss function.\n",
        "Procedure:\n",
        "\n",
        "Data is split into training and test sets, holding 30% of the data for testing.\n",
        "The model is trained on the training data for 50 epochs.\n",
        "The model's predictions on the test data are compared to the actual values to compute the MSE.\n",
        "Steps 1-3 are repeated 50 times to create a distribution of MSEs.\n",
        "The mean and standard deviation of these MSEs are reported."
      ],
      "metadata": {
        "id": "bcUBxGkisA8z"
      }
    },
    {
      "cell_type": "code",
      "source": [
        "mse_list_A = []\n",
        "\n",
        "for _ in range(50):\n",
        "    X_train, X_test, y_train, y_test = train_test_split(X, y, test_size=0.3, random_state=None)\n",
        "\n",
        "    model_A = Sequential()\n",
        "    model_A.add(Dense(10, activation='relu', input_shape=(X_train.shape[1],)))\n",
        "    model_A.add(Dense(1))\n",
        "\n",
        "    model_A.compile(optimizer='adam', loss='mean_squared_error')\n",
        "    model_A.fit(X_train, y_train, epochs=50, verbose=0)\n",
        "\n",
        "    y_pred = model_A.predict(X_test)\n",
        "    mse = mean_squared_error(y_test, y_pred)\n",
        "    mse_list_A.append(mse)\n",
        "\n",
        "mean_mse_A = np.mean(mse_list_A)\n",
        "std_mse_A = np.std(mse_list_A)"
      ],
      "metadata": {
        "colab": {
          "base_uri": "https://localhost:8080/"
        },
        "id": "UQ0CrMomiJBz",
        "outputId": "c18001c4-6bb3-431c-9079-f27d847baafc"
      },
      "execution_count": 4,
      "outputs": [
        {
          "output_type": "stream",
          "name": "stdout",
          "text": [
            "10/10 [==============================] - 0s 4ms/step\n",
            "10/10 [==============================] - 0s 4ms/step\n",
            "10/10 [==============================] - 0s 4ms/step\n",
            "10/10 [==============================] - 0s 4ms/step\n",
            "10/10 [==============================] - 0s 4ms/step\n",
            "10/10 [==============================] - 0s 4ms/step\n",
            "10/10 [==============================] - 0s 4ms/step\n",
            "10/10 [==============================] - 0s 4ms/step\n",
            "10/10 [==============================] - 0s 7ms/step\n",
            "10/10 [==============================] - 0s 5ms/step\n",
            "10/10 [==============================] - 0s 4ms/step\n",
            "10/10 [==============================] - 0s 3ms/step\n",
            "10/10 [==============================] - 0s 13ms/step\n",
            "10/10 [==============================] - 0s 4ms/step\n",
            "10/10 [==============================] - 0s 3ms/step\n",
            "10/10 [==============================] - 0s 4ms/step\n",
            "10/10 [==============================] - 0s 4ms/step\n",
            "10/10 [==============================] - 0s 4ms/step\n",
            "10/10 [==============================] - 0s 5ms/step\n",
            "10/10 [==============================] - 0s 4ms/step\n",
            "10/10 [==============================] - 0s 5ms/step\n",
            "10/10 [==============================] - 0s 4ms/step\n",
            "10/10 [==============================] - 0s 10ms/step\n",
            "10/10 [==============================] - 0s 10ms/step\n",
            "10/10 [==============================] - 0s 5ms/step\n",
            "10/10 [==============================] - 0s 4ms/step\n",
            "10/10 [==============================] - 0s 5ms/step\n",
            "10/10 [==============================] - 0s 4ms/step\n",
            "10/10 [==============================] - 0s 4ms/step\n",
            "10/10 [==============================] - 0s 8ms/step\n",
            "10/10 [==============================] - 0s 5ms/step\n",
            "10/10 [==============================] - 0s 4ms/step\n",
            "10/10 [==============================] - 0s 4ms/step\n",
            "10/10 [==============================] - 0s 5ms/step\n",
            "10/10 [==============================] - 0s 4ms/step\n",
            "10/10 [==============================] - 0s 4ms/step\n",
            "10/10 [==============================] - 0s 5ms/step\n",
            "10/10 [==============================] - 0s 5ms/step\n",
            "10/10 [==============================] - 0s 4ms/step\n",
            "10/10 [==============================] - 0s 5ms/step\n",
            "10/10 [==============================] - 0s 4ms/step\n",
            "10/10 [==============================] - 0s 4ms/step\n",
            "10/10 [==============================] - 0s 4ms/step\n",
            "10/10 [==============================] - 0s 4ms/step\n",
            "10/10 [==============================] - 0s 4ms/step\n",
            "10/10 [==============================] - 0s 4ms/step\n",
            "10/10 [==============================] - 0s 5ms/step\n",
            "10/10 [==============================] - 0s 4ms/step\n",
            "10/10 [==============================] - 0s 4ms/step\n",
            "10/10 [==============================] - 0s 4ms/step\n"
          ]
        }
      ]
    },
    {
      "cell_type": "code",
      "source": [
        "print(f'Parte A - Mean MSE: {mean_mse_A}')\n",
        "print(f'Parte A - Standard Deviation of MSE: {std_mse_A}')\n"
      ],
      "metadata": {
        "colab": {
          "base_uri": "https://localhost:8080/"
        },
        "id": "Cc1z1xTViQDF",
        "outputId": "a71e0dc0-942e-4b1d-e625-6d32d3ac995b"
      },
      "execution_count": 5,
      "outputs": [
        {
          "output_type": "stream",
          "name": "stdout",
          "text": [
            "Parte A - Mean MSE: 375.37107731311875\n",
            "Parte A - Standard Deviation of MSE: 453.4803552564334\n"
          ]
        }
      ]
    },
    {
      "cell_type": "markdown",
      "source": [
        "A. Build a Baseline Model\n",
        "Objective:\n",
        "Create a baseline neural network model to predict the strength of concrete based on various features.\n",
        "\n",
        "Model Architecture:\n",
        "\n",
        "Input layer based on the number of features.\n",
        "One hidden layer with 10 nodes and a ReLU activation function.\n",
        "Output layer to predict concrete strength.\n",
        "Adam optimizer and mean squared error (MSE) as the loss function.\n",
        "Procedure:\n",
        "\n",
        "Data is split into training and test sets, holding 30% of the data for testing.\n",
        "The model is trained on the training data for 50 epochs.\n",
        "The model's predictions on the test data are compared to the actual values to compute the MSE.\n",
        "Steps 1-3 are repeated 50 times to create a distribution of MSEs.\n",
        "The mean and standard deviation of these MSEs are reported."
      ],
      "metadata": {
        "id": "EqpOq70TsIw5"
      }
    },
    {
      "cell_type": "code",
      "source": [
        "# Normalizar los datos\n",
        "X_norm = (X - X.mean()) / X.std()\n",
        "\n",
        "mse_list_B = []\n",
        "\n",
        "for _ in range(50):\n",
        "    X_train, X_test, y_train, y_test = train_test_split(X_norm, y, test_size=0.3, random_state=None)\n",
        "\n",
        "    model_B = Sequential()\n",
        "    model_B.add(Dense(10, activation='relu', input_shape=(X_train.shape[1],)))\n",
        "    model_B.add(Dense(1))\n",
        "\n",
        "    model_B.compile(optimizer='adam', loss='mean_squared_error')\n",
        "    model_B.fit(X_train, y_train, epochs=50, verbose=0)\n",
        "\n",
        "    y_pred = model_B.predict(X_test)\n",
        "    mse = mean_squared_error(y_test, y_pred)\n",
        "    mse_list_B.append(mse)\n",
        "\n",
        "mean_mse_B = np.mean(mse_list_B)\n",
        "std_mse_B = np.std(mse_list_B)\n"
      ],
      "metadata": {
        "colab": {
          "base_uri": "https://localhost:8080/"
        },
        "id": "KzDSDrnDiOt6",
        "outputId": "a41aeae6-881d-4077-a764-9f5230e5a4df"
      },
      "execution_count": 6,
      "outputs": [
        {
          "output_type": "stream",
          "name": "stdout",
          "text": [
            "10/10 [==============================] - 0s 4ms/step\n",
            "10/10 [==============================] - 0s 4ms/step\n",
            "10/10 [==============================] - 0s 4ms/step\n",
            "10/10 [==============================] - 0s 4ms/step\n",
            "10/10 [==============================] - 0s 5ms/step\n",
            "10/10 [==============================] - 0s 4ms/step\n",
            "10/10 [==============================] - 0s 5ms/step\n",
            "10/10 [==============================] - 0s 5ms/step\n",
            "10/10 [==============================] - 0s 4ms/step\n",
            "10/10 [==============================] - 0s 4ms/step\n",
            "10/10 [==============================] - 0s 5ms/step\n",
            "10/10 [==============================] - 0s 4ms/step\n",
            "10/10 [==============================] - 0s 4ms/step\n",
            "10/10 [==============================] - 0s 4ms/step\n",
            "10/10 [==============================] - 0s 4ms/step\n",
            "10/10 [==============================] - 0s 7ms/step\n",
            "10/10 [==============================] - 0s 4ms/step\n",
            "10/10 [==============================] - 0s 4ms/step\n",
            "10/10 [==============================] - 0s 5ms/step\n",
            "10/10 [==============================] - 0s 4ms/step\n",
            "10/10 [==============================] - 0s 4ms/step\n",
            "10/10 [==============================] - 0s 4ms/step\n",
            "10/10 [==============================] - 0s 4ms/step\n",
            "10/10 [==============================] - 0s 4ms/step\n",
            "10/10 [==============================] - 0s 4ms/step\n",
            "10/10 [==============================] - 0s 4ms/step\n",
            "10/10 [==============================] - 0s 4ms/step\n",
            "10/10 [==============================] - 0s 4ms/step\n",
            "10/10 [==============================] - 0s 5ms/step\n",
            "10/10 [==============================] - 0s 4ms/step\n",
            "10/10 [==============================] - 0s 4ms/step\n",
            "10/10 [==============================] - 0s 4ms/step\n",
            "10/10 [==============================] - 0s 4ms/step\n",
            "10/10 [==============================] - 0s 5ms/step\n",
            "10/10 [==============================] - 0s 5ms/step\n",
            "10/10 [==============================] - 0s 4ms/step\n",
            "10/10 [==============================] - 0s 4ms/step\n",
            "10/10 [==============================] - 0s 5ms/step\n",
            "10/10 [==============================] - 0s 4ms/step\n",
            "10/10 [==============================] - 0s 5ms/step\n",
            "10/10 [==============================] - 0s 4ms/step\n",
            "10/10 [==============================] - 0s 4ms/step\n",
            "10/10 [==============================] - 0s 4ms/step\n",
            "10/10 [==============================] - 0s 5ms/step\n",
            "10/10 [==============================] - 0s 4ms/step\n",
            "10/10 [==============================] - 0s 5ms/step\n",
            "10/10 [==============================] - 0s 4ms/step\n",
            "10/10 [==============================] - 0s 4ms/step\n",
            "10/10 [==============================] - 0s 7ms/step\n",
            "10/10 [==============================] - 0s 5ms/step\n"
          ]
        }
      ]
    },
    {
      "cell_type": "code",
      "source": [
        "print(f'Parte B - Mean MSE: {mean_mse_B}')\n",
        "print(f'Parte B - Standard Deviation of MSE: {std_mse_B}')\n"
      ],
      "metadata": {
        "colab": {
          "base_uri": "https://localhost:8080/"
        },
        "id": "fJwf5882iS4F",
        "outputId": "cc71eee7-8a33-4dd7-d689-22c38e333457"
      },
      "execution_count": 7,
      "outputs": [
        {
          "output_type": "stream",
          "name": "stdout",
          "text": [
            "Parte B - Mean MSE: 379.131004856568\n",
            "Parte B - Standard Deviation of MSE: 85.14128411264174\n"
          ]
        }
      ]
    },
    {
      "cell_type": "markdown",
      "source": [
        "C. Increase the Number of Epochs\n",
        "Objective:\n",
        "Determine the effect of training the model for a longer time on its performance.\n",
        "\n",
        "Procedure:\n",
        "\n",
        "Using the normalized data from Part B, the model is trained for 100 epochs instead of 50.\n",
        "The model's performance is then evaluated as before.\n",
        "The process is repeated 50 times, and the mean and standard deviation of the MSEs are reported.\n",
        "The results are compared to those from Part B to observe the impact of longer training."
      ],
      "metadata": {
        "id": "XHzx3EobsMZw"
      }
    },
    {
      "cell_type": "code",
      "source": [
        "mse_list_C = []\n",
        "\n",
        "for _ in range(50):\n",
        "    X_train, X_test, y_train, y_test = train_test_split(X_norm, y, test_size=0.3, random_state=None)\n",
        "\n",
        "    model_C = Sequential()\n",
        "    model_C.add(Dense(10, activation='relu', input_shape=(X_train.shape[1],)))\n",
        "    model_C.add(Dense(1))\n",
        "\n",
        "    model_C.compile(optimizer='adam', loss='mean_squared_error')\n",
        "    model_C.fit(X_train, y_train, epochs=100, verbose=0)  # 100 epochs esta vez\n",
        "\n",
        "    y_pred = model_C.predict(X_test)\n",
        "    mse = mean_squared_error(y_test, y_pred)\n",
        "    mse_list_C.append(mse)\n",
        "\n",
        "mean_mse_C = np.mean(mse_list_C)\n",
        "std_mse_C = np.std(mse_list_C)\n"
      ],
      "metadata": {
        "colab": {
          "base_uri": "https://localhost:8080/"
        },
        "id": "uc_kYNkUjLLN",
        "outputId": "17c06236-f36f-424c-f633-e072a962431d"
      },
      "execution_count": 8,
      "outputs": [
        {
          "output_type": "stream",
          "name": "stdout",
          "text": [
            "10/10 [==============================] - 0s 4ms/step\n",
            "10/10 [==============================] - 0s 4ms/step\n",
            "10/10 [==============================] - 0s 4ms/step\n",
            "10/10 [==============================] - 0s 4ms/step\n",
            "10/10 [==============================] - 0s 6ms/step\n",
            "10/10 [==============================] - 0s 4ms/step\n",
            "10/10 [==============================] - 0s 7ms/step\n",
            "10/10 [==============================] - 0s 5ms/step\n",
            "10/10 [==============================] - 0s 4ms/step\n",
            "10/10 [==============================] - 0s 5ms/step\n",
            "10/10 [==============================] - 0s 4ms/step\n",
            "10/10 [==============================] - 0s 4ms/step\n",
            "10/10 [==============================] - 0s 4ms/step\n",
            "10/10 [==============================] - 0s 4ms/step\n",
            "10/10 [==============================] - 0s 5ms/step\n",
            "10/10 [==============================] - 2s 6ms/step\n",
            "10/10 [==============================] - 0s 4ms/step\n",
            "10/10 [==============================] - 0s 4ms/step\n",
            "10/10 [==============================] - 0s 5ms/step\n",
            "10/10 [==============================] - 0s 4ms/step\n",
            "10/10 [==============================] - 0s 4ms/step\n",
            "10/10 [==============================] - 0s 5ms/step\n",
            "10/10 [==============================] - 0s 7ms/step\n",
            "10/10 [==============================] - 0s 4ms/step\n",
            "10/10 [==============================] - 0s 5ms/step\n",
            "10/10 [==============================] - 0s 4ms/step\n",
            "10/10 [==============================] - 0s 4ms/step\n",
            "10/10 [==============================] - 0s 4ms/step\n",
            "10/10 [==============================] - 0s 5ms/step\n",
            "10/10 [==============================] - 0s 4ms/step\n",
            "10/10 [==============================] - 0s 4ms/step\n",
            "10/10 [==============================] - 0s 4ms/step\n",
            "10/10 [==============================] - 0s 4ms/step\n",
            "10/10 [==============================] - 0s 4ms/step\n",
            "10/10 [==============================] - 0s 4ms/step\n",
            "10/10 [==============================] - 0s 4ms/step\n",
            "10/10 [==============================] - 0s 4ms/step\n",
            "10/10 [==============================] - 0s 4ms/step\n",
            "10/10 [==============================] - 0s 4ms/step\n",
            "10/10 [==============================] - 0s 4ms/step\n",
            "10/10 [==============================] - 0s 10ms/step\n",
            "10/10 [==============================] - 0s 4ms/step\n",
            "10/10 [==============================] - 0s 4ms/step\n",
            "10/10 [==============================] - 0s 4ms/step\n",
            "10/10 [==============================] - 0s 5ms/step\n",
            "10/10 [==============================] - 0s 4ms/step\n",
            "10/10 [==============================] - 0s 4ms/step\n",
            "10/10 [==============================] - 0s 4ms/step\n",
            "10/10 [==============================] - 0s 4ms/step\n",
            "10/10 [==============================] - 0s 4ms/step\n"
          ]
        }
      ]
    },
    {
      "cell_type": "code",
      "source": [
        "print(f'Parte C - Mean MSE: {mean_mse_C}')\n",
        "print(f'Parte C - Standard Deviation of MSE: {std_mse_C}')\n"
      ],
      "metadata": {
        "colab": {
          "base_uri": "https://localhost:8080/"
        },
        "id": "eX_oDjBejMAF",
        "outputId": "17a969dc-43d3-4fd7-da2e-d77e267dccf1"
      },
      "execution_count": 9,
      "outputs": [
        {
          "output_type": "stream",
          "name": "stdout",
          "text": [
            "Parte C - Mean MSE: 165.55179295935213\n",
            "Parte C - Standard Deviation of MSE: 14.953390414362042\n"
          ]
        }
      ]
    },
    {
      "cell_type": "markdown",
      "source": [
        "D. Increase the Number of Hidden Layers\n",
        "Objective:\n",
        "Explore how adding complexity to the model by increasing the number of hidden layers affects its performance.\n",
        "\n",
        "Model Architecture:\n",
        "\n",
        "Input layer based on the number of features.\n",
        "Three hidden layers, each with 10 nodes and a ReLU activation function.\n",
        "Output layer to predict concrete strength.\n",
        "Procedure:\n",
        "\n",
        "Using the normalized data from Part B, the new model with additional hidden layers is trained for 100 epochs.\n",
        "The model's performance is evaluated as before.\n",
        "This process is repeated 50 times to assess the model's stability and performance.\n",
        "The mean and standard deviation of the MSEs are reported and compared to the results from Part B."
      ],
      "metadata": {
        "id": "-K5kZ-hssSv-"
      }
    },
    {
      "cell_type": "code",
      "source": [
        "mse_list_D = []\n",
        "\n",
        "for _ in range(50):\n",
        "    X_train, X_test, y_train, y_test = train_test_split(X_norm, y, test_size=0.3, random_state=None)\n",
        "\n",
        "    model_D = Sequential()\n",
        "    model_D.add(Dense(10, activation='relu', input_shape=(X_train.shape[1],)))\n",
        "    model_D.add(Dense(10, activation='relu'))\n",
        "    model_D.add(Dense(10, activation='relu'))\n",
        "    model_D.add(Dense(1))\n",
        "\n",
        "    model_D.compile(optimizer='adam', loss='mean_squared_error')\n",
        "    model_D.fit(X_train, y_train, epochs=50, verbose=0)  # 50 epochs como en Parte B\n",
        "\n",
        "    y_pred = model_D.predict(X_test)\n",
        "    mse = mean_squared_error(y_test, y_pred)\n",
        "    mse_list_D.append(mse)\n",
        "\n",
        "mean_mse_D = np.mean(mse_list_D)\n",
        "std_mse_D = np.std(mse_list_D)\n"
      ],
      "metadata": {
        "colab": {
          "base_uri": "https://localhost:8080/"
        },
        "id": "-NMe37WXjQgS",
        "outputId": "74aabf6b-2db5-424a-ae0f-031c8ee09e81"
      },
      "execution_count": 10,
      "outputs": [
        {
          "output_type": "stream",
          "name": "stdout",
          "text": [
            "10/10 [==============================] - 0s 4ms/step\n",
            "10/10 [==============================] - 0s 4ms/step\n",
            "10/10 [==============================] - 0s 5ms/step\n",
            "10/10 [==============================] - 0s 6ms/step\n",
            "10/10 [==============================] - 0s 5ms/step\n",
            "10/10 [==============================] - 0s 5ms/step\n",
            "10/10 [==============================] - 0s 4ms/step\n",
            "10/10 [==============================] - 0s 4ms/step\n",
            "10/10 [==============================] - 0s 5ms/step\n",
            "10/10 [==============================] - 0s 5ms/step\n",
            "10/10 [==============================] - 0s 6ms/step\n",
            "10/10 [==============================] - 0s 7ms/step\n",
            "10/10 [==============================] - 0s 5ms/step\n",
            "10/10 [==============================] - 0s 5ms/step\n",
            "10/10 [==============================] - 0s 4ms/step\n",
            "10/10 [==============================] - 0s 6ms/step\n",
            "10/10 [==============================] - 0s 4ms/step\n",
            "10/10 [==============================] - 0s 4ms/step\n",
            "10/10 [==============================] - 0s 5ms/step\n",
            "10/10 [==============================] - 0s 5ms/step\n",
            "10/10 [==============================] - 0s 4ms/step\n",
            "10/10 [==============================] - 0s 5ms/step\n",
            "10/10 [==============================] - 0s 4ms/step\n",
            "10/10 [==============================] - 0s 4ms/step\n",
            "10/10 [==============================] - 0s 5ms/step\n",
            "10/10 [==============================] - 0s 4ms/step\n",
            "10/10 [==============================] - 0s 4ms/step\n",
            "10/10 [==============================] - 0s 7ms/step\n",
            "10/10 [==============================] - 0s 4ms/step\n",
            "10/10 [==============================] - 0s 4ms/step\n",
            "10/10 [==============================] - 0s 4ms/step\n",
            "10/10 [==============================] - 0s 4ms/step\n",
            "10/10 [==============================] - 0s 5ms/step\n",
            "10/10 [==============================] - 0s 4ms/step\n",
            "10/10 [==============================] - 0s 7ms/step\n",
            "10/10 [==============================] - 0s 5ms/step\n",
            "10/10 [==============================] - 0s 4ms/step\n",
            "10/10 [==============================] - 0s 5ms/step\n",
            "10/10 [==============================] - 0s 4ms/step\n",
            "10/10 [==============================] - 0s 5ms/step\n",
            "10/10 [==============================] - 0s 5ms/step\n",
            "10/10 [==============================] - 0s 5ms/step\n",
            "10/10 [==============================] - 0s 5ms/step\n",
            "10/10 [==============================] - 0s 4ms/step\n",
            "10/10 [==============================] - 0s 7ms/step\n",
            "10/10 [==============================] - 0s 5ms/step\n",
            "10/10 [==============================] - 0s 4ms/step\n",
            "10/10 [==============================] - 0s 7ms/step\n",
            "10/10 [==============================] - 0s 6ms/step\n",
            "10/10 [==============================] - 0s 5ms/step\n"
          ]
        }
      ]
    },
    {
      "cell_type": "code",
      "source": [
        "print(f'Parte D - Mean MSE: {mean_mse_D}')\n",
        "print(f'Parte D - Standard Deviation of MSE: {std_mse_D}')\n"
      ],
      "metadata": {
        "colab": {
          "base_uri": "https://localhost:8080/"
        },
        "id": "yRTmt4htjSbQ",
        "outputId": "a7a43c45-a9d3-489e-c468-bbf9ecab2304"
      },
      "execution_count": 11,
      "outputs": [
        {
          "output_type": "stream",
          "name": "stdout",
          "text": [
            "Parte D - Mean MSE: 129.38234203997735\n",
            "Parte D - Standard Deviation of MSE: 14.540814062770917\n"
          ]
        }
      ]
    }
  ]
}